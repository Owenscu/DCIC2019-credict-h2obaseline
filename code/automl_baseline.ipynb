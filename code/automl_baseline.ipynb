{
 "cells": [
  {
   "cell_type": "code",
   "execution_count": 1,
   "metadata": {
    "scrolled": true
   },
   "outputs": [
    {
     "name": "stdout",
     "output_type": "stream",
     "text": [
      "Checking whether there is an H2O instance running at http://localhost:54321..... not found.\n",
      "Attempting to start a local H2O server...\n",
      "  Java Version: openjdk version \"1.8.0_152-release\"; OpenJDK Runtime Environment (build 1.8.0_152-release-1056-b12); OpenJDK 64-Bit Server VM (build 25.152-b12, mixed mode)\n",
      "  Starting server from /home/owen/anaconda3/h2o_jar/h2o.jar\n",
      "  Ice root: /tmp/tmp6pzssi65\n",
      "  JVM stdout: /tmp/tmp6pzssi65/h2o_owen_started_from_python.out\n",
      "  JVM stderr: /tmp/tmp6pzssi65/h2o_owen_started_from_python.err\n",
      "  Server is running at http://127.0.0.1:54321\n",
      "Connecting to H2O server at http://127.0.0.1:54321... successful.\n",
      "Warning: Your H2O cluster version is too old (10 months and 16 days)! Please download and install the latest version from http://h2o.ai/download/\n"
     ]
    },
    {
     "data": {
      "text/html": [
       "<div style=\"overflow:auto\"><table style=\"width:50%\"><tr><td>H2O cluster uptime:</td>\n",
       "<td>01 secs</td></tr>\n",
       "<tr><td>H2O cluster timezone:</td>\n",
       "<td>Asia/Shanghai</td></tr>\n",
       "<tr><td>H2O data parsing timezone:</td>\n",
       "<td>UTC</td></tr>\n",
       "<tr><td>H2O cluster version:</td>\n",
       "<td>3.18.0.2</td></tr>\n",
       "<tr><td>H2O cluster version age:</td>\n",
       "<td>10 months and 16 days !!!</td></tr>\n",
       "<tr><td>H2O cluster name:</td>\n",
       "<td>H2O_from_python_owen_szv3p7</td></tr>\n",
       "<tr><td>H2O cluster total nodes:</td>\n",
       "<td>1</td></tr>\n",
       "<tr><td>H2O cluster free memory:</td>\n",
       "<td>21.33 Gb</td></tr>\n",
       "<tr><td>H2O cluster total cores:</td>\n",
       "<td>8</td></tr>\n",
       "<tr><td>H2O cluster allowed cores:</td>\n",
       "<td>8</td></tr>\n",
       "<tr><td>H2O cluster status:</td>\n",
       "<td>accepting new members, healthy</td></tr>\n",
       "<tr><td>H2O connection url:</td>\n",
       "<td>http://127.0.0.1:54321</td></tr>\n",
       "<tr><td>H2O connection proxy:</td>\n",
       "<td>None</td></tr>\n",
       "<tr><td>H2O internal security:</td>\n",
       "<td>False</td></tr>\n",
       "<tr><td>H2O API Extensions:</td>\n",
       "<td>XGBoost, Algos, AutoML, Core V3, Core V4</td></tr>\n",
       "<tr><td>Python version:</td>\n",
       "<td>3.6.5 final</td></tr></table></div>"
      ],
      "text/plain": [
       "--------------------------  ----------------------------------------\n",
       "H2O cluster uptime:         01 secs\n",
       "H2O cluster timezone:       Asia/Shanghai\n",
       "H2O data parsing timezone:  UTC\n",
       "H2O cluster version:        3.18.0.2\n",
       "H2O cluster version age:    10 months and 16 days !!!\n",
       "H2O cluster name:           H2O_from_python_owen_szv3p7\n",
       "H2O cluster total nodes:    1\n",
       "H2O cluster free memory:    21.33 Gb\n",
       "H2O cluster total cores:    8\n",
       "H2O cluster allowed cores:  8\n",
       "H2O cluster status:         accepting new members, healthy\n",
       "H2O connection url:         http://127.0.0.1:54321\n",
       "H2O connection proxy:\n",
       "H2O internal security:      False\n",
       "H2O API Extensions:         XGBoost, Algos, AutoML, Core V3, Core V4\n",
       "Python version:             3.6.5 final\n",
       "--------------------------  ----------------------------------------"
      ]
     },
     "metadata": {},
     "output_type": "display_data"
    }
   ],
   "source": [
    "import h2o\n",
    "from h2o.automl import H2OAutoML\n",
    "h2o.init(max_mem_size='24G')\n",
    "import pandas as pd"
   ]
  },
  {
   "cell_type": "code",
   "execution_count": 2,
   "metadata": {},
   "outputs": [],
   "source": [
    "columns_name = ['user_id','is_real_name','age','is_college','is_blacklist','is_abnormal_4g','use_time',\n",
    "               'last_paytime','last_paymoney','last_6_month_mean_pay','this_month_bills','this_month_balance',\n",
    "               'is_arrears','bill_sense','call_people_num','is_shop','last_3_month_mall_num','is_wanda','is_vip',\n",
    "               'is_movie','is_trip','is_sports','is_taobao_num','is_shunfen_num','is_bankapp_num','is_vedioapp_num',\n",
    "               'is_planeapp_num','is_trainapp_num','is_tripapp_num']\n",
    "test = pd.read_csv('../data/test_dataset.csv',header=0,names=columns_name)\n",
    "\n",
    "columns_name.append('score')\n",
    "\n",
    "train = pd.read_csv('../data/train_dataset.csv',header=0,names=columns_name)\n",
    "\n",
    "train.to_csv('../data/train.csv',index = 0)\n",
    "test.to_csv('../data/test.csv',index = 0)"
   ]
  },
  {
   "cell_type": "code",
   "execution_count": 3,
   "metadata": {},
   "outputs": [
    {
     "name": "stdout",
     "output_type": "stream",
     "text": [
      "Parse progress: |█████████████████████████████████████████████████████████| 100%\n",
      "Parse progress: |█████████████████████████████████████████████████████████| 100%\n"
     ]
    },
    {
     "data": {
      "text/html": [
       "<table>\n",
       "<thead>\n",
       "<tr><th>user_id                         </th><th style=\"text-align: right;\">  is_real_name</th><th style=\"text-align: right;\">  age</th><th style=\"text-align: right;\">  is_college</th><th style=\"text-align: right;\">  is_blacklist</th><th style=\"text-align: right;\">  is_abnormal_4g</th><th style=\"text-align: right;\">  use_time</th><th style=\"text-align: right;\">  last_paytime</th><th style=\"text-align: right;\">  last_paymoney</th><th style=\"text-align: right;\">  last_6_month_mean_pay</th><th style=\"text-align: right;\">  this_month_bills</th><th style=\"text-align: right;\">  this_month_balance</th><th style=\"text-align: right;\">  is_arrears</th><th style=\"text-align: right;\">  bill_sense</th><th style=\"text-align: right;\">  call_people_num</th><th style=\"text-align: right;\">  is_shop</th><th style=\"text-align: right;\">  last_3_month_mall_num</th><th style=\"text-align: right;\">  is_wanda</th><th style=\"text-align: right;\">  is_vip</th><th style=\"text-align: right;\">  is_movie</th><th style=\"text-align: right;\">  is_trip</th><th style=\"text-align: right;\">  is_sports</th><th style=\"text-align: right;\">  is_taobao_num</th><th style=\"text-align: right;\">  is_shunfen_num</th><th style=\"text-align: right;\">  is_bankapp_num</th><th style=\"text-align: right;\">  is_vedioapp_num</th><th style=\"text-align: right;\">  is_planeapp_num</th><th style=\"text-align: right;\">  is_trainapp_num</th><th style=\"text-align: right;\">  is_tripapp_num</th><th style=\"text-align: right;\">  score</th></tr>\n",
       "</thead>\n",
       "<tbody>\n",
       "<tr><td>a4651f98c82948b186bdcdc8108381b4</td><td style=\"text-align: right;\">             1</td><td style=\"text-align: right;\">   44</td><td style=\"text-align: right;\">           0</td><td style=\"text-align: right;\">             0</td><td style=\"text-align: right;\">               0</td><td style=\"text-align: right;\">       186</td><td style=\"text-align: right;\">             1</td><td style=\"text-align: right;\">          99.8 </td><td style=\"text-align: right;\">                 163.86</td><td style=\"text-align: right;\">            159.2 </td><td style=\"text-align: right;\">                 180</td><td style=\"text-align: right;\">           0</td><td style=\"text-align: right;\">           3</td><td style=\"text-align: right;\">               83</td><td style=\"text-align: right;\">        1</td><td style=\"text-align: right;\">                     75</td><td style=\"text-align: right;\">         0</td><td style=\"text-align: right;\">       0</td><td style=\"text-align: right;\">         0</td><td style=\"text-align: right;\">        1</td><td style=\"text-align: right;\">          1</td><td style=\"text-align: right;\">            713</td><td style=\"text-align: right;\">               0</td><td style=\"text-align: right;\">            2740</td><td style=\"text-align: right;\">             7145</td><td style=\"text-align: right;\">                0</td><td style=\"text-align: right;\">                0</td><td style=\"text-align: right;\">              30</td><td style=\"text-align: right;\">    664</td></tr>\n",
       "<tr><td>aeb10247db4e4d67b2550bbc42ff9827</td><td style=\"text-align: right;\">             1</td><td style=\"text-align: right;\">   18</td><td style=\"text-align: right;\">           0</td><td style=\"text-align: right;\">             0</td><td style=\"text-align: right;\">               1</td><td style=\"text-align: right;\">         5</td><td style=\"text-align: right;\">             1</td><td style=\"text-align: right;\">          29.94</td><td style=\"text-align: right;\">                 153.28</td><td style=\"text-align: right;\">            145.1 </td><td style=\"text-align: right;\">                 110</td><td style=\"text-align: right;\">           0</td><td style=\"text-align: right;\">           3</td><td style=\"text-align: right;\">               21</td><td style=\"text-align: right;\">        1</td><td style=\"text-align: right;\">                     16</td><td style=\"text-align: right;\">         0</td><td style=\"text-align: right;\">       0</td><td style=\"text-align: right;\">         0</td><td style=\"text-align: right;\">        0</td><td style=\"text-align: right;\">          0</td><td style=\"text-align: right;\">            414</td><td style=\"text-align: right;\">               0</td><td style=\"text-align: right;\">            2731</td><td style=\"text-align: right;\">            44862</td><td style=\"text-align: right;\">                0</td><td style=\"text-align: right;\">                0</td><td style=\"text-align: right;\">               0</td><td style=\"text-align: right;\">    530</td></tr>\n",
       "<tr><td>5af23a1e0e77410abb25e9a7eee510aa</td><td style=\"text-align: right;\">             1</td><td style=\"text-align: right;\">   47</td><td style=\"text-align: right;\">           0</td><td style=\"text-align: right;\">             0</td><td style=\"text-align: right;\">               0</td><td style=\"text-align: right;\">       145</td><td style=\"text-align: right;\">             1</td><td style=\"text-align: right;\">          49.9 </td><td style=\"text-align: right;\">                 109.64</td><td style=\"text-align: right;\">            120.2 </td><td style=\"text-align: right;\">                  70</td><td style=\"text-align: right;\">           0</td><td style=\"text-align: right;\">           1</td><td style=\"text-align: right;\">               59</td><td style=\"text-align: right;\">        0</td><td style=\"text-align: right;\">                      1</td><td style=\"text-align: right;\">         0</td><td style=\"text-align: right;\">       0</td><td style=\"text-align: right;\">         0</td><td style=\"text-align: right;\">        0</td><td style=\"text-align: right;\">          0</td><td style=\"text-align: right;\">           3391</td><td style=\"text-align: right;\">               0</td><td style=\"text-align: right;\">               0</td><td style=\"text-align: right;\">             4804</td><td style=\"text-align: right;\">                0</td><td style=\"text-align: right;\">                0</td><td style=\"text-align: right;\">               1</td><td style=\"text-align: right;\">    643</td></tr>\n",
       "<tr><td>43c64379d3c24a15b8478851b22049e4</td><td style=\"text-align: right;\">             1</td><td style=\"text-align: right;\">   55</td><td style=\"text-align: right;\">           0</td><td style=\"text-align: right;\">             0</td><td style=\"text-align: right;\">               0</td><td style=\"text-align: right;\">       234</td><td style=\"text-align: right;\">             1</td><td style=\"text-align: right;\">          99.8 </td><td style=\"text-align: right;\">                  92.97</td><td style=\"text-align: right;\">            167.42</td><td style=\"text-align: right;\">                  90</td><td style=\"text-align: right;\">           0</td><td style=\"text-align: right;\">           3</td><td style=\"text-align: right;\">               78</td><td style=\"text-align: right;\">        1</td><td style=\"text-align: right;\">                     26</td><td style=\"text-align: right;\">         0</td><td style=\"text-align: right;\">       0</td><td style=\"text-align: right;\">         0</td><td style=\"text-align: right;\">        1</td><td style=\"text-align: right;\">          1</td><td style=\"text-align: right;\">            500</td><td style=\"text-align: right;\">               0</td><td style=\"text-align: right;\">            1931</td><td style=\"text-align: right;\">             3141</td><td style=\"text-align: right;\">                0</td><td style=\"text-align: right;\">                0</td><td style=\"text-align: right;\">               5</td><td style=\"text-align: right;\">    649</td></tr>\n",
       "<tr><td>f1687f3b8a6f4910bd0b13eb634056e2</td><td style=\"text-align: right;\">             1</td><td style=\"text-align: right;\">   40</td><td style=\"text-align: right;\">           0</td><td style=\"text-align: right;\">             0</td><td style=\"text-align: right;\">               0</td><td style=\"text-align: right;\">        76</td><td style=\"text-align: right;\">             1</td><td style=\"text-align: right;\">          49.9 </td><td style=\"text-align: right;\">                  95.47</td><td style=\"text-align: right;\">            101   </td><td style=\"text-align: right;\">                  80</td><td style=\"text-align: right;\">           0</td><td style=\"text-align: right;\">           3</td><td style=\"text-align: right;\">               70</td><td style=\"text-align: right;\">        1</td><td style=\"text-align: right;\">                     44</td><td style=\"text-align: right;\">         0</td><td style=\"text-align: right;\">       0</td><td style=\"text-align: right;\">         0</td><td style=\"text-align: right;\">        1</td><td style=\"text-align: right;\">          0</td><td style=\"text-align: right;\">            522</td><td style=\"text-align: right;\">               0</td><td style=\"text-align: right;\">              64</td><td style=\"text-align: right;\">               59</td><td style=\"text-align: right;\">                0</td><td style=\"text-align: right;\">                0</td><td style=\"text-align: right;\">               0</td><td style=\"text-align: right;\">    648</td></tr>\n",
       "<tr><td>52795d470db4478584f6c92f66af0294</td><td style=\"text-align: right;\">             1</td><td style=\"text-align: right;\">   39</td><td style=\"text-align: right;\">           0</td><td style=\"text-align: right;\">             0</td><td style=\"text-align: right;\">               0</td><td style=\"text-align: right;\">        78</td><td style=\"text-align: right;\">             0</td><td style=\"text-align: right;\">           0   </td><td style=\"text-align: right;\">                 113.76</td><td style=\"text-align: right;\">            103.6 </td><td style=\"text-align: right;\">                 180</td><td style=\"text-align: right;\">           0</td><td style=\"text-align: right;\">           1</td><td style=\"text-align: right;\">              146</td><td style=\"text-align: right;\">        1</td><td style=\"text-align: right;\">                     62</td><td style=\"text-align: right;\">         0</td><td style=\"text-align: right;\">       0</td><td style=\"text-align: right;\">         0</td><td style=\"text-align: right;\">        1</td><td style=\"text-align: right;\">          1</td><td style=\"text-align: right;\">          11205</td><td style=\"text-align: right;\">               5</td><td style=\"text-align: right;\">            7526</td><td style=\"text-align: right;\">            11178</td><td style=\"text-align: right;\">               21</td><td style=\"text-align: right;\">                0</td><td style=\"text-align: right;\">              56</td><td style=\"text-align: right;\">    656</td></tr>\n",
       "<tr><td>0d758e1b10cc4f618dda9f87fc948068</td><td style=\"text-align: right;\">             1</td><td style=\"text-align: right;\">   31</td><td style=\"text-align: right;\">           0</td><td style=\"text-align: right;\">             0</td><td style=\"text-align: right;\">               0</td><td style=\"text-align: right;\">        65</td><td style=\"text-align: right;\">             1</td><td style=\"text-align: right;\">          99.8 </td><td style=\"text-align: right;\">                 162.98</td><td style=\"text-align: right;\">            217.78</td><td style=\"text-align: right;\">                  60</td><td style=\"text-align: right;\">           0</td><td style=\"text-align: right;\">           3</td><td style=\"text-align: right;\">              117</td><td style=\"text-align: right;\">        1</td><td style=\"text-align: right;\">                     74</td><td style=\"text-align: right;\">         1</td><td style=\"text-align: right;\">       0</td><td style=\"text-align: right;\">         0</td><td style=\"text-align: right;\">        1</td><td style=\"text-align: right;\">          1</td><td style=\"text-align: right;\">            531</td><td style=\"text-align: right;\">               0</td><td style=\"text-align: right;\">            3701</td><td style=\"text-align: right;\">            20163</td><td style=\"text-align: right;\">                0</td><td style=\"text-align: right;\">                0</td><td style=\"text-align: right;\">               0</td><td style=\"text-align: right;\">    612</td></tr>\n",
       "<tr><td>b05585f9635245f282bf2cffd3c5773c</td><td style=\"text-align: right;\">             1</td><td style=\"text-align: right;\">   28</td><td style=\"text-align: right;\">           0</td><td style=\"text-align: right;\">             0</td><td style=\"text-align: right;\">               0</td><td style=\"text-align: right;\">        27</td><td style=\"text-align: right;\">             1</td><td style=\"text-align: right;\">          29.94</td><td style=\"text-align: right;\">                  86.25</td><td style=\"text-align: right;\">             85.83</td><td style=\"text-align: right;\">                 130</td><td style=\"text-align: right;\">           0</td><td style=\"text-align: right;\">           2</td><td style=\"text-align: right;\">               43</td><td style=\"text-align: right;\">        0</td><td style=\"text-align: right;\">                      0</td><td style=\"text-align: right;\">         0</td><td style=\"text-align: right;\">       0</td><td style=\"text-align: right;\">         0</td><td style=\"text-align: right;\">        0</td><td style=\"text-align: right;\">          0</td><td style=\"text-align: right;\">             28</td><td style=\"text-align: right;\">               0</td><td style=\"text-align: right;\">              58</td><td style=\"text-align: right;\">              173</td><td style=\"text-align: right;\">                0</td><td style=\"text-align: right;\">                0</td><td style=\"text-align: right;\">               0</td><td style=\"text-align: right;\">    628</td></tr>\n",
       "<tr><td>acde81ca14eb429a983bec773e16098c</td><td style=\"text-align: right;\">             1</td><td style=\"text-align: right;\">   23</td><td style=\"text-align: right;\">           0</td><td style=\"text-align: right;\">             0</td><td style=\"text-align: right;\">               0</td><td style=\"text-align: right;\">        41</td><td style=\"text-align: right;\">             1</td><td style=\"text-align: right;\">          49.9 </td><td style=\"text-align: right;\">                  22.81</td><td style=\"text-align: right;\">             24.89</td><td style=\"text-align: right;\">                  60</td><td style=\"text-align: right;\">           0</td><td style=\"text-align: right;\">           2</td><td style=\"text-align: right;\">               35</td><td style=\"text-align: right;\">        1</td><td style=\"text-align: right;\">                     58</td><td style=\"text-align: right;\">         0</td><td style=\"text-align: right;\">       0</td><td style=\"text-align: right;\">         0</td><td style=\"text-align: right;\">        1</td><td style=\"text-align: right;\">          0</td><td style=\"text-align: right;\">            754</td><td style=\"text-align: right;\">               0</td><td style=\"text-align: right;\">            2773</td><td style=\"text-align: right;\">             2589</td><td style=\"text-align: right;\">                0</td><td style=\"text-align: right;\">                2</td><td style=\"text-align: right;\">               0</td><td style=\"text-align: right;\">    547</td></tr>\n",
       "<tr><td>1f78ee310e9d48449b8d5a1fd1537286</td><td style=\"text-align: right;\">             1</td><td style=\"text-align: right;\">   51</td><td style=\"text-align: right;\">           0</td><td style=\"text-align: right;\">             0</td><td style=\"text-align: right;\">               0</td><td style=\"text-align: right;\">        42</td><td style=\"text-align: right;\">             1</td><td style=\"text-align: right;\">          29.94</td><td style=\"text-align: right;\">                  23.51</td><td style=\"text-align: right;\">             23   </td><td style=\"text-align: right;\">                  30</td><td style=\"text-align: right;\">           0</td><td style=\"text-align: right;\">           1</td><td style=\"text-align: right;\">                7</td><td style=\"text-align: right;\">        0</td><td style=\"text-align: right;\">                      0</td><td style=\"text-align: right;\">         0</td><td style=\"text-align: right;\">       0</td><td style=\"text-align: right;\">         0</td><td style=\"text-align: right;\">        0</td><td style=\"text-align: right;\">          0</td><td style=\"text-align: right;\">            103</td><td style=\"text-align: right;\">               0</td><td style=\"text-align: right;\">              47</td><td style=\"text-align: right;\">                2</td><td style=\"text-align: right;\">                0</td><td style=\"text-align: right;\">                0</td><td style=\"text-align: right;\">               0</td><td style=\"text-align: right;\">    599</td></tr>\n",
       "</tbody>\n",
       "</table>"
      ]
     },
     "metadata": {},
     "output_type": "display_data"
    },
    {
     "data": {
      "text/plain": []
     },
     "execution_count": 3,
     "metadata": {},
     "output_type": "execute_result"
    }
   ],
   "source": [
    "train = h2o.import_file(\"../data/train.csv\")\n",
    "test = h2o.import_file(\"../data/test.csv\")\n",
    "train"
   ]
  },
  {
   "cell_type": "code",
   "execution_count": 4,
   "metadata": {},
   "outputs": [],
   "source": [
    "good_cols = [i for i in train.columns if i not in ['user_id','score']]\n",
    "x = good_cols\n",
    "y = 'score'"
   ]
  },
  {
   "cell_type": "code",
   "execution_count": 5,
   "metadata": {},
   "outputs": [
    {
     "name": "stdout",
     "output_type": "stream",
     "text": [
      "AutoML progress: |████████████████████████████████████████████████████████| 100%\n",
      "Parse progress: |█████████████████████████████████████████████████████████| 100%\n"
     ]
    }
   ],
   "source": [
    "aml = H2OAutoML(max_models=19, seed=2019,stopping_metric='MSE', max_runtime_secs=12800)\n",
    "aml.train(x=x, y=y, training_frame=train)"
   ]
  },
  {
   "cell_type": "code",
   "execution_count": 6,
   "metadata": {},
   "outputs": [
    {
     "data": {
      "text/html": [
       "<table>\n",
       "<thead>\n",
       "<tr><th>model_id                                             </th><th style=\"text-align: right;\">  mean_residual_deviance</th><th style=\"text-align: right;\">   rmse</th><th style=\"text-align: right;\">    mae</th><th style=\"text-align: right;\">   rmsle</th></tr>\n",
       "</thead>\n",
       "<tbody>\n",
       "<tr><td>StackedEnsemble_AllModels_0_AutoML_20190122_193037   </td><td style=\"text-align: right;\">                 377.32 </td><td style=\"text-align: right;\">19.4247</td><td style=\"text-align: right;\">14.9281</td><td style=\"text-align: right;\">0.032666</td></tr>\n",
       "<tr><td>GBM_grid_0_AutoML_20190122_193037_model_1            </td><td style=\"text-align: right;\">                 381.765</td><td style=\"text-align: right;\">19.5388</td><td style=\"text-align: right;\">15.0135</td><td style=\"text-align: right;\">0.032856</td></tr>\n",
       "<tr><td>StackedEnsemble_BestOfFamily_0_AutoML_20190122_193037</td><td style=\"text-align: right;\">                 382.17 </td><td style=\"text-align: right;\">19.5492</td><td style=\"text-align: right;\">15.032 </td><td style=\"text-align: right;\">0.032876</td></tr>\n",
       "<tr><td>GBM_grid_0_AutoML_20190122_193037_model_0            </td><td style=\"text-align: right;\">                 383.458</td><td style=\"text-align: right;\">19.5821</td><td style=\"text-align: right;\">15.0342</td><td style=\"text-align: right;\">0.032935</td></tr>\n",
       "<tr><td>GBM_grid_0_AutoML_20190122_193037_model_2            </td><td style=\"text-align: right;\">                 383.562</td><td style=\"text-align: right;\">19.5847</td><td style=\"text-align: right;\">15.044 </td><td style=\"text-align: right;\">0.032941</td></tr>\n",
       "<tr><td>GBM_grid_0_AutoML_20190122_193037_model_4            </td><td style=\"text-align: right;\">                 384.187</td><td style=\"text-align: right;\">19.6007</td><td style=\"text-align: right;\">15.0607</td><td style=\"text-align: right;\">0.032966</td></tr>\n",
       "<tr><td>GBM_grid_0_AutoML_20190122_193037_model_6            </td><td style=\"text-align: right;\">                 388.923</td><td style=\"text-align: right;\">19.7211</td><td style=\"text-align: right;\">15.1516</td><td style=\"text-align: right;\">0.033176</td></tr>\n",
       "<tr><td>GBM_grid_0_AutoML_20190122_193037_model_3            </td><td style=\"text-align: right;\">                 389.705</td><td style=\"text-align: right;\">19.7409</td><td style=\"text-align: right;\">15.1482</td><td style=\"text-align: right;\">0.033204</td></tr>\n",
       "<tr><td>GBM_grid_0_AutoML_20190122_193037_model_14           </td><td style=\"text-align: right;\">                 406.919</td><td style=\"text-align: right;\">20.1722</td><td style=\"text-align: right;\">15.3985</td><td style=\"text-align: right;\">0.03406 </td></tr>\n",
       "<tr><td>XRT_0_AutoML_20190122_193037                         </td><td style=\"text-align: right;\">                 408.249</td><td style=\"text-align: right;\">20.2052</td><td style=\"text-align: right;\">15.5147</td><td style=\"text-align: right;\">0.034015</td></tr>\n",
       "</tbody>\n",
       "</table>"
      ]
     },
     "metadata": {},
     "output_type": "display_data"
    },
    {
     "data": {
      "text/plain": []
     },
     "execution_count": 6,
     "metadata": {},
     "output_type": "execute_result"
    }
   ],
   "source": [
    "lb = aml.leaderboard\n",
    "lb.head()"
   ]
  },
  {
   "cell_type": "code",
   "execution_count": 7,
   "metadata": {
    "scrolled": true
   },
   "outputs": [
    {
     "data": {
      "text/html": [
       "<table>\n",
       "<thead>\n",
       "<tr><th>model_id                                             </th><th style=\"text-align: right;\">  mean_residual_deviance</th><th style=\"text-align: right;\">   rmse</th><th style=\"text-align: right;\">    mae</th><th style=\"text-align: right;\">   rmsle</th></tr>\n",
       "</thead>\n",
       "<tbody>\n",
       "<tr><td>StackedEnsemble_AllModels_0_AutoML_20190122_193037   </td><td style=\"text-align: right;\">                 377.32 </td><td style=\"text-align: right;\">19.4247</td><td style=\"text-align: right;\">14.9281</td><td style=\"text-align: right;\">0.032666</td></tr>\n",
       "<tr><td>GBM_grid_0_AutoML_20190122_193037_model_1            </td><td style=\"text-align: right;\">                 381.765</td><td style=\"text-align: right;\">19.5388</td><td style=\"text-align: right;\">15.0135</td><td style=\"text-align: right;\">0.032856</td></tr>\n",
       "<tr><td>StackedEnsemble_BestOfFamily_0_AutoML_20190122_193037</td><td style=\"text-align: right;\">                 382.17 </td><td style=\"text-align: right;\">19.5492</td><td style=\"text-align: right;\">15.032 </td><td style=\"text-align: right;\">0.032876</td></tr>\n",
       "<tr><td>GBM_grid_0_AutoML_20190122_193037_model_0            </td><td style=\"text-align: right;\">                 383.458</td><td style=\"text-align: right;\">19.5821</td><td style=\"text-align: right;\">15.0342</td><td style=\"text-align: right;\">0.032935</td></tr>\n",
       "<tr><td>GBM_grid_0_AutoML_20190122_193037_model_2            </td><td style=\"text-align: right;\">                 383.562</td><td style=\"text-align: right;\">19.5847</td><td style=\"text-align: right;\">15.044 </td><td style=\"text-align: right;\">0.032941</td></tr>\n",
       "<tr><td>GBM_grid_0_AutoML_20190122_193037_model_4            </td><td style=\"text-align: right;\">                 384.187</td><td style=\"text-align: right;\">19.6007</td><td style=\"text-align: right;\">15.0607</td><td style=\"text-align: right;\">0.032966</td></tr>\n",
       "<tr><td>GBM_grid_0_AutoML_20190122_193037_model_6            </td><td style=\"text-align: right;\">                 388.923</td><td style=\"text-align: right;\">19.7211</td><td style=\"text-align: right;\">15.1516</td><td style=\"text-align: right;\">0.033176</td></tr>\n",
       "<tr><td>GBM_grid_0_AutoML_20190122_193037_model_3            </td><td style=\"text-align: right;\">                 389.705</td><td style=\"text-align: right;\">19.7409</td><td style=\"text-align: right;\">15.1482</td><td style=\"text-align: right;\">0.033204</td></tr>\n",
       "<tr><td>GBM_grid_0_AutoML_20190122_193037_model_14           </td><td style=\"text-align: right;\">                 406.919</td><td style=\"text-align: right;\">20.1722</td><td style=\"text-align: right;\">15.3985</td><td style=\"text-align: right;\">0.03406 </td></tr>\n",
       "<tr><td>XRT_0_AutoML_20190122_193037                         </td><td style=\"text-align: right;\">                 408.249</td><td style=\"text-align: right;\">20.2052</td><td style=\"text-align: right;\">15.5147</td><td style=\"text-align: right;\">0.034015</td></tr>\n",
       "<tr><td>GBM_grid_0_AutoML_20190122_193037_model_12           </td><td style=\"text-align: right;\">                 411.033</td><td style=\"text-align: right;\">20.2739</td><td style=\"text-align: right;\">15.5051</td><td style=\"text-align: right;\">0.034193</td></tr>\n",
       "<tr><td>DRF_0_AutoML_20190122_193037                         </td><td style=\"text-align: right;\">                 414.363</td><td style=\"text-align: right;\">20.3559</td><td style=\"text-align: right;\">15.6476</td><td style=\"text-align: right;\">0.034251</td></tr>\n",
       "<tr><td>GBM_grid_0_AutoML_20190122_193037_model_5            </td><td style=\"text-align: right;\">                 419.424</td><td style=\"text-align: right;\">20.4798</td><td style=\"text-align: right;\">15.715 </td><td style=\"text-align: right;\">0.034419</td></tr>\n",
       "<tr><td>GBM_grid_0_AutoML_20190122_193037_model_8            </td><td style=\"text-align: right;\">                 424.247</td><td style=\"text-align: right;\">20.5973</td><td style=\"text-align: right;\">15.7184</td><td style=\"text-align: right;\">0.034828</td></tr>\n",
       "<tr><td>GBM_grid_0_AutoML_20190122_193037_model_9            </td><td style=\"text-align: right;\">                 436.365</td><td style=\"text-align: right;\">20.8893</td><td style=\"text-align: right;\">16.0747</td><td style=\"text-align: right;\">0.035125</td></tr>\n",
       "<tr><td>GBM_grid_0_AutoML_20190122_193037_model_13           </td><td style=\"text-align: right;\">                 436.493</td><td style=\"text-align: right;\">20.8924</td><td style=\"text-align: right;\">16.0452</td><td style=\"text-align: right;\">0.035111</td></tr>\n",
       "<tr><td>DeepLearning_0_AutoML_20190122_193037                </td><td style=\"text-align: right;\">                 469.002</td><td style=\"text-align: right;\">21.6565</td><td style=\"text-align: right;\">16.5329</td><td style=\"text-align: right;\">0.036597</td></tr>\n",
       "<tr><td>GBM_grid_0_AutoML_20190122_193037_model_10           </td><td style=\"text-align: right;\">                 470.247</td><td style=\"text-align: right;\">21.6852</td><td style=\"text-align: right;\">16.7122</td><td style=\"text-align: right;\">0.036371</td></tr>\n",
       "<tr><td>GBM_grid_0_AutoML_20190122_193037_model_11           </td><td style=\"text-align: right;\">                 490.087</td><td style=\"text-align: right;\">22.1379</td><td style=\"text-align: right;\">17.0069</td><td style=\"text-align: right;\">0.037147</td></tr>\n",
       "<tr><td>GBM_grid_0_AutoML_20190122_193037_model_7            </td><td style=\"text-align: right;\">                 530.267</td><td style=\"text-align: right;\">23.0275</td><td style=\"text-align: right;\">17.6813</td><td style=\"text-align: right;\">0.039027</td></tr>\n",
       "<tr><td>GLM_grid_0_AutoML_20190122_193037_model_0            </td><td style=\"text-align: right;\">                 771.59 </td><td style=\"text-align: right;\">27.7775</td><td style=\"text-align: right;\">21.406 </td><td style=\"text-align: right;\">0.046733</td></tr>\n",
       "</tbody>\n",
       "</table>"
      ]
     },
     "metadata": {},
     "output_type": "display_data"
    },
    {
     "data": {
      "text/plain": []
     },
     "execution_count": 7,
     "metadata": {},
     "output_type": "execute_result"
    }
   ],
   "source": [
    "lb.head(rows=lb.nrows)"
   ]
  },
  {
   "cell_type": "code",
   "execution_count": 8,
   "metadata": {
    "scrolled": true
   },
   "outputs": [
    {
     "data": {
      "text/html": [
       "<table>\n",
       "<thead>\n",
       "<tr><th>user_id                         </th><th style=\"text-align: right;\">  is_real_name</th><th style=\"text-align: right;\">  age</th><th style=\"text-align: right;\">  is_college</th><th style=\"text-align: right;\">  is_blacklist</th><th style=\"text-align: right;\">  is_abnormal_4g</th><th style=\"text-align: right;\">  use_time</th><th style=\"text-align: right;\">  last_paytime</th><th style=\"text-align: right;\">  last_paymoney</th><th style=\"text-align: right;\">  last_6_month_mean_pay</th><th style=\"text-align: right;\">  this_month_bills</th><th style=\"text-align: right;\">  this_month_balance</th><th style=\"text-align: right;\">  is_arrears</th><th style=\"text-align: right;\">  bill_sense</th><th style=\"text-align: right;\">  call_people_num</th><th style=\"text-align: right;\">  is_shop</th><th style=\"text-align: right;\">  last_3_month_mall_num</th><th style=\"text-align: right;\">  is_wanda</th><th style=\"text-align: right;\">  is_vip</th><th style=\"text-align: right;\">  is_movie</th><th style=\"text-align: right;\">  is_trip</th><th style=\"text-align: right;\">  is_sports</th><th style=\"text-align: right;\">  is_taobao_num</th><th style=\"text-align: right;\">  is_shunfen_num</th><th style=\"text-align: right;\">  is_bankapp_num</th><th style=\"text-align: right;\">  is_vedioapp_num</th><th style=\"text-align: right;\">  is_planeapp_num</th><th style=\"text-align: right;\">  is_trainapp_num</th><th style=\"text-align: right;\">  is_tripapp_num</th></tr>\n",
       "</thead>\n",
       "<tbody>\n",
       "<tr><td>7171737d49b143d1b38883a39e4a5730</td><td style=\"text-align: right;\">             1</td><td style=\"text-align: right;\">   30</td><td style=\"text-align: right;\">           0</td><td style=\"text-align: right;\">             0</td><td style=\"text-align: right;\">               0</td><td style=\"text-align: right;\">        22</td><td style=\"text-align: right;\">             1</td><td style=\"text-align: right;\">          99.8 </td><td style=\"text-align: right;\">                  69.53</td><td style=\"text-align: right;\">             50.38</td><td style=\"text-align: right;\">                 190</td><td style=\"text-align: right;\">           0</td><td style=\"text-align: right;\">           4</td><td style=\"text-align: right;\">               19</td><td style=\"text-align: right;\">        0</td><td style=\"text-align: right;\">                      2</td><td style=\"text-align: right;\">         0</td><td style=\"text-align: right;\">       0</td><td style=\"text-align: right;\">         0</td><td style=\"text-align: right;\">        1</td><td style=\"text-align: right;\">          0</td><td style=\"text-align: right;\">            281</td><td style=\"text-align: right;\">               0</td><td style=\"text-align: right;\">              74</td><td style=\"text-align: right;\">              807</td><td style=\"text-align: right;\">                0</td><td style=\"text-align: right;\">                0</td><td style=\"text-align: right;\">               2</td></tr>\n",
       "<tr><td>3af0a449d5424488912e8fb2bf4b9faa</td><td style=\"text-align: right;\">             1</td><td style=\"text-align: right;\">   70</td><td style=\"text-align: right;\">           0</td><td style=\"text-align: right;\">             0</td><td style=\"text-align: right;\">               0</td><td style=\"text-align: right;\">        84</td><td style=\"text-align: right;\">             0</td><td style=\"text-align: right;\">           0   </td><td style=\"text-align: right;\">                  12.89</td><td style=\"text-align: right;\">             34.06</td><td style=\"text-align: right;\">                  20</td><td style=\"text-align: right;\">           0</td><td style=\"text-align: right;\">           5</td><td style=\"text-align: right;\">               23</td><td style=\"text-align: right;\">        0</td><td style=\"text-align: right;\">                      0</td><td style=\"text-align: right;\">         0</td><td style=\"text-align: right;\">       0</td><td style=\"text-align: right;\">         0</td><td style=\"text-align: right;\">        0</td><td style=\"text-align: right;\">          0</td><td style=\"text-align: right;\">              0</td><td style=\"text-align: right;\">               0</td><td style=\"text-align: right;\">               0</td><td style=\"text-align: right;\">                0</td><td style=\"text-align: right;\">                0</td><td style=\"text-align: right;\">                0</td><td style=\"text-align: right;\">               0</td></tr>\n",
       "<tr><td>eb2cf02e0d5c4d1294dd73e776dbb441</td><td style=\"text-align: right;\">             1</td><td style=\"text-align: right;\">   35</td><td style=\"text-align: right;\">           0</td><td style=\"text-align: right;\">             0</td><td style=\"text-align: right;\">               0</td><td style=\"text-align: right;\">       237</td><td style=\"text-align: right;\">             0</td><td style=\"text-align: right;\">           0   </td><td style=\"text-align: right;\">                 161.71</td><td style=\"text-align: right;\">            171.09</td><td style=\"text-align: right;\">                 120</td><td style=\"text-align: right;\">           0</td><td style=\"text-align: right;\">           2</td><td style=\"text-align: right;\">              206</td><td style=\"text-align: right;\">        0</td><td style=\"text-align: right;\">                     84</td><td style=\"text-align: right;\">         1</td><td style=\"text-align: right;\">       0</td><td style=\"text-align: right;\">         1</td><td style=\"text-align: right;\">        1</td><td style=\"text-align: right;\">          1</td><td style=\"text-align: right;\">            186</td><td style=\"text-align: right;\">               0</td><td style=\"text-align: right;\">             943</td><td style=\"text-align: right;\">              261</td><td style=\"text-align: right;\">                0</td><td style=\"text-align: right;\">                0</td><td style=\"text-align: right;\">               0</td></tr>\n",
       "<tr><td>9c0f780ecb254670a11aa9e3f10777c5</td><td style=\"text-align: right;\">             1</td><td style=\"text-align: right;\">   44</td><td style=\"text-align: right;\">           0</td><td style=\"text-align: right;\">             0</td><td style=\"text-align: right;\">               0</td><td style=\"text-align: right;\">       161</td><td style=\"text-align: right;\">             0</td><td style=\"text-align: right;\">           0   </td><td style=\"text-align: right;\">                 229.6 </td><td style=\"text-align: right;\">            223   </td><td style=\"text-align: right;\">                 220</td><td style=\"text-align: right;\">           1</td><td style=\"text-align: right;\">           5</td><td style=\"text-align: right;\">              171</td><td style=\"text-align: right;\">        0</td><td style=\"text-align: right;\">                     85</td><td style=\"text-align: right;\">         0</td><td style=\"text-align: right;\">       0</td><td style=\"text-align: right;\">         1</td><td style=\"text-align: right;\">        1</td><td style=\"text-align: right;\">          1</td><td style=\"text-align: right;\">            244</td><td style=\"text-align: right;\">               0</td><td style=\"text-align: right;\">              72</td><td style=\"text-align: right;\">              591</td><td style=\"text-align: right;\">                0</td><td style=\"text-align: right;\">                0</td><td style=\"text-align: right;\">               3</td></tr>\n",
       "<tr><td>d794eed46c1e44f785a575f18b3023a5</td><td style=\"text-align: right;\">             1</td><td style=\"text-align: right;\">   44</td><td style=\"text-align: right;\">           0</td><td style=\"text-align: right;\">             0</td><td style=\"text-align: right;\">               0</td><td style=\"text-align: right;\">       153</td><td style=\"text-align: right;\">             1</td><td style=\"text-align: right;\">          99.8 </td><td style=\"text-align: right;\">                 105.42</td><td style=\"text-align: right;\">            103.6 </td><td style=\"text-align: right;\">                  50</td><td style=\"text-align: right;\">           0</td><td style=\"text-align: right;\">           4</td><td style=\"text-align: right;\">               77</td><td style=\"text-align: right;\">        0</td><td style=\"text-align: right;\">                     81</td><td style=\"text-align: right;\">         0</td><td style=\"text-align: right;\">       0</td><td style=\"text-align: right;\">         0</td><td style=\"text-align: right;\">        1</td><td style=\"text-align: right;\">          1</td><td style=\"text-align: right;\">            132</td><td style=\"text-align: right;\">               0</td><td style=\"text-align: right;\">               0</td><td style=\"text-align: right;\">               88</td><td style=\"text-align: right;\">                0</td><td style=\"text-align: right;\">                0</td><td style=\"text-align: right;\">               0</td></tr>\n",
       "<tr><td>18f6a7d824a1421b9da3e5f10854c3df</td><td style=\"text-align: right;\">             1</td><td style=\"text-align: right;\">   53</td><td style=\"text-align: right;\">           0</td><td style=\"text-align: right;\">             0</td><td style=\"text-align: right;\">               0</td><td style=\"text-align: right;\">       142</td><td style=\"text-align: right;\">             1</td><td style=\"text-align: right;\">          29.94</td><td style=\"text-align: right;\">                  27.43</td><td style=\"text-align: right;\">             34   </td><td style=\"text-align: right;\">                  10</td><td style=\"text-align: right;\">           0</td><td style=\"text-align: right;\">           2</td><td style=\"text-align: right;\">               17</td><td style=\"text-align: right;\">        0</td><td style=\"text-align: right;\">                     87</td><td style=\"text-align: right;\">         0</td><td style=\"text-align: right;\">       0</td><td style=\"text-align: right;\">         0</td><td style=\"text-align: right;\">        0</td><td style=\"text-align: right;\">          1</td><td style=\"text-align: right;\">           3820</td><td style=\"text-align: right;\">               0</td><td style=\"text-align: right;\">             618</td><td style=\"text-align: right;\">              308</td><td style=\"text-align: right;\">                0</td><td style=\"text-align: right;\">                0</td><td style=\"text-align: right;\">              12</td></tr>\n",
       "<tr><td>e7b63888a36f499a88811c0936bb12df</td><td style=\"text-align: right;\">             1</td><td style=\"text-align: right;\">   36</td><td style=\"text-align: right;\">           0</td><td style=\"text-align: right;\">             0</td><td style=\"text-align: right;\">               0</td><td style=\"text-align: right;\">        66</td><td style=\"text-align: right;\">             1</td><td style=\"text-align: right;\">          99.8 </td><td style=\"text-align: right;\">                 149.45</td><td style=\"text-align: right;\">            171.2 </td><td style=\"text-align: right;\">                  70</td><td style=\"text-align: right;\">           0</td><td style=\"text-align: right;\">           4</td><td style=\"text-align: right;\">               33</td><td style=\"text-align: right;\">        0</td><td style=\"text-align: right;\">                      1</td><td style=\"text-align: right;\">         0</td><td style=\"text-align: right;\">       0</td><td style=\"text-align: right;\">         0</td><td style=\"text-align: right;\">        1</td><td style=\"text-align: right;\">          0</td><td style=\"text-align: right;\">            621</td><td style=\"text-align: right;\">               0</td><td style=\"text-align: right;\">             540</td><td style=\"text-align: right;\">             3948</td><td style=\"text-align: right;\">                0</td><td style=\"text-align: right;\">                0</td><td style=\"text-align: right;\">               0</td></tr>\n",
       "<tr><td>f995ef4d96fc426191a104421b0f5b20</td><td style=\"text-align: right;\">             1</td><td style=\"text-align: right;\">   25</td><td style=\"text-align: right;\">           0</td><td style=\"text-align: right;\">             0</td><td style=\"text-align: right;\">               0</td><td style=\"text-align: right;\">         9</td><td style=\"text-align: right;\">             1</td><td style=\"text-align: right;\">          49.9 </td><td style=\"text-align: right;\">                  73.81</td><td style=\"text-align: right;\">            103.94</td><td style=\"text-align: right;\">                  10</td><td style=\"text-align: right;\">           0</td><td style=\"text-align: right;\">           2</td><td style=\"text-align: right;\">               18</td><td style=\"text-align: right;\">        1</td><td style=\"text-align: right;\">                     38</td><td style=\"text-align: right;\">         0</td><td style=\"text-align: right;\">       0</td><td style=\"text-align: right;\">         1</td><td style=\"text-align: right;\">        1</td><td style=\"text-align: right;\">          1</td><td style=\"text-align: right;\">            395</td><td style=\"text-align: right;\">               0</td><td style=\"text-align: right;\">             281</td><td style=\"text-align: right;\">              643</td><td style=\"text-align: right;\">                0</td><td style=\"text-align: right;\">                0</td><td style=\"text-align: right;\">               0</td></tr>\n",
       "<tr><td>11a3ce45ce234f7db4e91e5f152dc8b8</td><td style=\"text-align: right;\">             1</td><td style=\"text-align: right;\">   39</td><td style=\"text-align: right;\">           0</td><td style=\"text-align: right;\">             0</td><td style=\"text-align: right;\">               0</td><td style=\"text-align: right;\">       189</td><td style=\"text-align: right;\">             0</td><td style=\"text-align: right;\">           0   </td><td style=\"text-align: right;\">                 170.67</td><td style=\"text-align: right;\">            182.9 </td><td style=\"text-align: right;\">                 140</td><td style=\"text-align: right;\">           0</td><td style=\"text-align: right;\">           2</td><td style=\"text-align: right;\">              200</td><td style=\"text-align: right;\">        1</td><td style=\"text-align: right;\">                     68</td><td style=\"text-align: right;\">         0</td><td style=\"text-align: right;\">       1</td><td style=\"text-align: right;\">         1</td><td style=\"text-align: right;\">        1</td><td style=\"text-align: right;\">          1</td><td style=\"text-align: right;\">           2527</td><td style=\"text-align: right;\">               0</td><td style=\"text-align: right;\">            1895</td><td style=\"text-align: right;\">             1956</td><td style=\"text-align: right;\">                0</td><td style=\"text-align: right;\">                3</td><td style=\"text-align: right;\">              13</td></tr>\n",
       "<tr><td>86ebeac087284c87bbcb1281d95ef9eb</td><td style=\"text-align: right;\">             1</td><td style=\"text-align: right;\">   54</td><td style=\"text-align: right;\">           0</td><td style=\"text-align: right;\">             0</td><td style=\"text-align: right;\">               0</td><td style=\"text-align: right;\">        87</td><td style=\"text-align: right;\">             1</td><td style=\"text-align: right;\">          30   </td><td style=\"text-align: right;\">                  35.1 </td><td style=\"text-align: right;\">             30   </td><td style=\"text-align: right;\">                  10</td><td style=\"text-align: right;\">           0</td><td style=\"text-align: right;\">           5</td><td style=\"text-align: right;\">               13</td><td style=\"text-align: right;\">        0</td><td style=\"text-align: right;\">                      0</td><td style=\"text-align: right;\">         0</td><td style=\"text-align: right;\">       0</td><td style=\"text-align: right;\">         0</td><td style=\"text-align: right;\">        0</td><td style=\"text-align: right;\">          0</td><td style=\"text-align: right;\">             16</td><td style=\"text-align: right;\">               0</td><td style=\"text-align: right;\">               1</td><td style=\"text-align: right;\">               10</td><td style=\"text-align: right;\">                0</td><td style=\"text-align: right;\">                0</td><td style=\"text-align: right;\">               0</td></tr>\n",
       "</tbody>\n",
       "</table>"
      ]
     },
     "metadata": {},
     "output_type": "display_data"
    },
    {
     "data": {
      "text/plain": []
     },
     "execution_count": 8,
     "metadata": {},
     "output_type": "execute_result"
    }
   ],
   "source": [
    "test"
   ]
  },
  {
   "cell_type": "code",
   "execution_count": 9,
   "metadata": {
    "scrolled": true
   },
   "outputs": [
    {
     "name": "stdout",
     "output_type": "stream",
     "text": [
      "Parse progress: |█████████████████████████████████████████████████████████| 100%\n",
      "stackedensemble prediction progress: |████████████████████████████████████| 100%\n"
     ]
    },
    {
     "data": {
      "text/plain": [
       "array([599.47534979, 533.2316817 , 669.38819843, ..., 546.71508726,\n",
       "       540.49309861, 549.65743353])"
      ]
     },
     "execution_count": 9,
     "metadata": {},
     "output_type": "execute_result"
    }
   ],
   "source": [
    "pred = aml.predict(test).as_data_frame().values.flatten()\n",
    "pred"
   ]
  },
  {
   "cell_type": "code",
   "execution_count": 10,
   "metadata": {},
   "outputs": [
    {
     "name": "stdout",
     "output_type": "stream",
     "text": [
      "\n",
      "ModelMetricsRegressionGLM: stackedensemble\n",
      "** Reported on test data. **\n",
      "\n",
      "MSE: 296.10373734828306\n",
      "RMSE: 17.207665075433187\n",
      "MAE: 13.296452875093781\n",
      "RMSLE: 0.028871104040460602\n",
      "R^2: 0.8356234092082018\n",
      "Mean Residual Deviance: 296.10373734828306\n",
      "Null degrees of freedom: 49999\n",
      "Residual degrees of freedom: 49984\n",
      "Null deviance: 90069040.07732007\n",
      "Residual deviance: 14805186.867414154\n",
      "AIC: 426463.34616748535\n"
     ]
    },
    {
     "data": {
      "text/plain": []
     },
     "execution_count": 10,
     "metadata": {},
     "output_type": "execute_result"
    }
   ],
   "source": [
    "perf = aml.leader.model_performance(train)\n",
    "perf"
   ]
  },
  {
   "cell_type": "code",
   "execution_count": 11,
   "metadata": {
    "scrolled": true
   },
   "outputs": [
    {
     "data": {
      "text/html": [
       "<div>\n",
       "<style scoped>\n",
       "    .dataframe tbody tr th:only-of-type {\n",
       "        vertical-align: middle;\n",
       "    }\n",
       "\n",
       "    .dataframe tbody tr th {\n",
       "        vertical-align: top;\n",
       "    }\n",
       "\n",
       "    .dataframe thead th {\n",
       "        text-align: right;\n",
       "    }\n",
       "</style>\n",
       "<table border=\"1\" class=\"dataframe\">\n",
       "  <thead>\n",
       "    <tr style=\"text-align: right;\">\n",
       "      <th></th>\n",
       "      <th>id</th>\n",
       "      <th>score</th>\n",
       "    </tr>\n",
       "  </thead>\n",
       "  <tbody>\n",
       "    <tr>\n",
       "      <th>0</th>\n",
       "      <td>7171737d49b143d1b38883a39e4a5730</td>\n",
       "      <td>599</td>\n",
       "    </tr>\n",
       "    <tr>\n",
       "      <th>1</th>\n",
       "      <td>3af0a449d5424488912e8fb2bf4b9faa</td>\n",
       "      <td>533</td>\n",
       "    </tr>\n",
       "    <tr>\n",
       "      <th>2</th>\n",
       "      <td>eb2cf02e0d5c4d1294dd73e776dbb441</td>\n",
       "      <td>669</td>\n",
       "    </tr>\n",
       "    <tr>\n",
       "      <th>3</th>\n",
       "      <td>9c0f780ecb254670a11aa9e3f10777c5</td>\n",
       "      <td>676</td>\n",
       "    </tr>\n",
       "    <tr>\n",
       "      <th>4</th>\n",
       "      <td>d794eed46c1e44f785a575f18b3023a5</td>\n",
       "      <td>660</td>\n",
       "    </tr>\n",
       "    <tr>\n",
       "      <th>5</th>\n",
       "      <td>18f6a7d824a1421b9da3e5f10854c3df</td>\n",
       "      <td>615</td>\n",
       "    </tr>\n",
       "    <tr>\n",
       "      <th>6</th>\n",
       "      <td>e7b63888a36f499a88811c0936bb12df</td>\n",
       "      <td>640</td>\n",
       "    </tr>\n",
       "    <tr>\n",
       "      <th>7</th>\n",
       "      <td>f995ef4d96fc426191a104421b0f5b20</td>\n",
       "      <td>571</td>\n",
       "    </tr>\n",
       "    <tr>\n",
       "      <th>8</th>\n",
       "      <td>11a3ce45ce234f7db4e91e5f152dc8b8</td>\n",
       "      <td>672</td>\n",
       "    </tr>\n",
       "    <tr>\n",
       "      <th>9</th>\n",
       "      <td>86ebeac087284c87bbcb1281d95ef9eb</td>\n",
       "      <td>583</td>\n",
       "    </tr>\n",
       "    <tr>\n",
       "      <th>10</th>\n",
       "      <td>195ada20e0644bbaa9590b6f2970eaea</td>\n",
       "      <td>649</td>\n",
       "    </tr>\n",
       "    <tr>\n",
       "      <th>11</th>\n",
       "      <td>63d788ea10244942bf7130f63ae78a90</td>\n",
       "      <td>556</td>\n",
       "    </tr>\n",
       "    <tr>\n",
       "      <th>12</th>\n",
       "      <td>4207accd0d9d42d1a990c1b2f3f95c88</td>\n",
       "      <td>646</td>\n",
       "    </tr>\n",
       "    <tr>\n",
       "      <th>13</th>\n",
       "      <td>a3b53661c96c46f6844ac30ca90b76ff</td>\n",
       "      <td>530</td>\n",
       "    </tr>\n",
       "    <tr>\n",
       "      <th>14</th>\n",
       "      <td>a6446d00741343ee92036cd373217655</td>\n",
       "      <td>653</td>\n",
       "    </tr>\n",
       "    <tr>\n",
       "      <th>15</th>\n",
       "      <td>8fb6014618ed48299a2a22648c26b953</td>\n",
       "      <td>619</td>\n",
       "    </tr>\n",
       "    <tr>\n",
       "      <th>16</th>\n",
       "      <td>f3932aec4f7d4b7a8e6b1d186e5a2faa</td>\n",
       "      <td>616</td>\n",
       "    </tr>\n",
       "    <tr>\n",
       "      <th>17</th>\n",
       "      <td>bd4a59e1eabd4b93b63021e6142ae363</td>\n",
       "      <td>645</td>\n",
       "    </tr>\n",
       "    <tr>\n",
       "      <th>18</th>\n",
       "      <td>560d3f89a6614916b6fa0894529cc0ce</td>\n",
       "      <td>645</td>\n",
       "    </tr>\n",
       "    <tr>\n",
       "      <th>19</th>\n",
       "      <td>6225520b8576493d9297d9016dd3b784</td>\n",
       "      <td>589</td>\n",
       "    </tr>\n",
       "    <tr>\n",
       "      <th>20</th>\n",
       "      <td>f73e28d9908e4e28b32521907e3c9b24</td>\n",
       "      <td>534</td>\n",
       "    </tr>\n",
       "    <tr>\n",
       "      <th>21</th>\n",
       "      <td>d5aef6475c4a4a658449895f927e3668</td>\n",
       "      <td>663</td>\n",
       "    </tr>\n",
       "    <tr>\n",
       "      <th>22</th>\n",
       "      <td>6451cc8b7808485295c092f3f6ab96a3</td>\n",
       "      <td>592</td>\n",
       "    </tr>\n",
       "    <tr>\n",
       "      <th>23</th>\n",
       "      <td>4ca166b893d6439da100dbc57c18e5af</td>\n",
       "      <td>586</td>\n",
       "    </tr>\n",
       "    <tr>\n",
       "      <th>24</th>\n",
       "      <td>7742bc4d80c9496bb61df6c638d22594</td>\n",
       "      <td>613</td>\n",
       "    </tr>\n",
       "    <tr>\n",
       "      <th>25</th>\n",
       "      <td>67b7865d70d745eb9d4f43aff3d85e64</td>\n",
       "      <td>649</td>\n",
       "    </tr>\n",
       "    <tr>\n",
       "      <th>26</th>\n",
       "      <td>f0960e3c59cb4f52ac87d79fc4ed3057</td>\n",
       "      <td>667</td>\n",
       "    </tr>\n",
       "    <tr>\n",
       "      <th>27</th>\n",
       "      <td>34f8907caeee48dabb52e28446ffcaf8</td>\n",
       "      <td>641</td>\n",
       "    </tr>\n",
       "    <tr>\n",
       "      <th>28</th>\n",
       "      <td>13095bc658e741eaad99eff134940d2d</td>\n",
       "      <td>608</td>\n",
       "    </tr>\n",
       "    <tr>\n",
       "      <th>29</th>\n",
       "      <td>90ebfc21c6f94c299999a5e0a1ad03de</td>\n",
       "      <td>589</td>\n",
       "    </tr>\n",
       "    <tr>\n",
       "      <th>...</th>\n",
       "      <td>...</td>\n",
       "      <td>...</td>\n",
       "    </tr>\n",
       "    <tr>\n",
       "      <th>49970</th>\n",
       "      <td>70c5f229370342b1b3639067df8f4c19</td>\n",
       "      <td>593</td>\n",
       "    </tr>\n",
       "    <tr>\n",
       "      <th>49971</th>\n",
       "      <td>3873d2e653c44ce7a3d96b7ddccd3928</td>\n",
       "      <td>626</td>\n",
       "    </tr>\n",
       "    <tr>\n",
       "      <th>49972</th>\n",
       "      <td>50b939508e064ae6b477b739cd33da89</td>\n",
       "      <td>619</td>\n",
       "    </tr>\n",
       "    <tr>\n",
       "      <th>49973</th>\n",
       "      <td>fa907682abe64bc1abb2c793b2bffa21</td>\n",
       "      <td>623</td>\n",
       "    </tr>\n",
       "    <tr>\n",
       "      <th>49974</th>\n",
       "      <td>7c117021d0aa4c66843449bd5fde3a75</td>\n",
       "      <td>623</td>\n",
       "    </tr>\n",
       "    <tr>\n",
       "      <th>49975</th>\n",
       "      <td>23faf8bdc77a4f6bbbb5b6d57787c275</td>\n",
       "      <td>642</td>\n",
       "    </tr>\n",
       "    <tr>\n",
       "      <th>49976</th>\n",
       "      <td>a2972b0a0a414e14bdd5a6e6d5e440fe</td>\n",
       "      <td>526</td>\n",
       "    </tr>\n",
       "    <tr>\n",
       "      <th>49977</th>\n",
       "      <td>e5c5b671de404e018d8a28931f78161c</td>\n",
       "      <td>650</td>\n",
       "    </tr>\n",
       "    <tr>\n",
       "      <th>49978</th>\n",
       "      <td>ef5fc7a994684dfcbb6f821b4e1d79c6</td>\n",
       "      <td>651</td>\n",
       "    </tr>\n",
       "    <tr>\n",
       "      <th>49979</th>\n",
       "      <td>371ad91bcb88406699f2f762cb3aa19f</td>\n",
       "      <td>561</td>\n",
       "    </tr>\n",
       "    <tr>\n",
       "      <th>49980</th>\n",
       "      <td>4a41693c5d254c20a49a7e069b91d1c0</td>\n",
       "      <td>595</td>\n",
       "    </tr>\n",
       "    <tr>\n",
       "      <th>49981</th>\n",
       "      <td>719d19480495437da3d46274dc7e28d7</td>\n",
       "      <td>596</td>\n",
       "    </tr>\n",
       "    <tr>\n",
       "      <th>49982</th>\n",
       "      <td>01c174e0d6534736b178cb19e08055a5</td>\n",
       "      <td>649</td>\n",
       "    </tr>\n",
       "    <tr>\n",
       "      <th>49983</th>\n",
       "      <td>e9a973ac39e648059eb1af1525e5e7f2</td>\n",
       "      <td>667</td>\n",
       "    </tr>\n",
       "    <tr>\n",
       "      <th>49984</th>\n",
       "      <td>ec848c467aca4601913f240d38737836</td>\n",
       "      <td>542</td>\n",
       "    </tr>\n",
       "    <tr>\n",
       "      <th>49985</th>\n",
       "      <td>23d36690eb22436ea82a254dcd9eff63</td>\n",
       "      <td>599</td>\n",
       "    </tr>\n",
       "    <tr>\n",
       "      <th>49986</th>\n",
       "      <td>26cedf7bf01140b3b3b917b2dc31fdb8</td>\n",
       "      <td>648</td>\n",
       "    </tr>\n",
       "    <tr>\n",
       "      <th>49987</th>\n",
       "      <td>2e84e511425448a7bb51c4ca90442b58</td>\n",
       "      <td>636</td>\n",
       "    </tr>\n",
       "    <tr>\n",
       "      <th>49988</th>\n",
       "      <td>9a38441f2bf8479da2d1f1b20c710874</td>\n",
       "      <td>645</td>\n",
       "    </tr>\n",
       "    <tr>\n",
       "      <th>49989</th>\n",
       "      <td>32d31a2bc6de4fbf8119424e994cfe8f</td>\n",
       "      <td>568</td>\n",
       "    </tr>\n",
       "    <tr>\n",
       "      <th>49990</th>\n",
       "      <td>4c988d6976f548a8927f3a8693d7cbbd</td>\n",
       "      <td>535</td>\n",
       "    </tr>\n",
       "    <tr>\n",
       "      <th>49991</th>\n",
       "      <td>3d4036c4c28141dd9b5a5b1a659682f8</td>\n",
       "      <td>532</td>\n",
       "    </tr>\n",
       "    <tr>\n",
       "      <th>49992</th>\n",
       "      <td>66ea074e918e4e559efc68d2a298a87f</td>\n",
       "      <td>619</td>\n",
       "    </tr>\n",
       "    <tr>\n",
       "      <th>49993</th>\n",
       "      <td>7cd1d6b2eaec450390eccf07028b17e9</td>\n",
       "      <td>659</td>\n",
       "    </tr>\n",
       "    <tr>\n",
       "      <th>49994</th>\n",
       "      <td>f2fab4d7c251460fb85cb32f6c64c2da</td>\n",
       "      <td>624</td>\n",
       "    </tr>\n",
       "    <tr>\n",
       "      <th>49995</th>\n",
       "      <td>573d8e9a1c2842d3a7fe0cac44145c78</td>\n",
       "      <td>543</td>\n",
       "    </tr>\n",
       "    <tr>\n",
       "      <th>49996</th>\n",
       "      <td>b186350facc940d3a288e48a9f2d367b</td>\n",
       "      <td>631</td>\n",
       "    </tr>\n",
       "    <tr>\n",
       "      <th>49997</th>\n",
       "      <td>bed687a2a5a44c2e9a764233b6866cd4</td>\n",
       "      <td>546</td>\n",
       "    </tr>\n",
       "    <tr>\n",
       "      <th>49998</th>\n",
       "      <td>1d0d9e079f164620bb84c9b1091de654</td>\n",
       "      <td>540</td>\n",
       "    </tr>\n",
       "    <tr>\n",
       "      <th>49999</th>\n",
       "      <td>e9b5e148e5cc4993bd990cbf15a9c0e6</td>\n",
       "      <td>549</td>\n",
       "    </tr>\n",
       "  </tbody>\n",
       "</table>\n",
       "<p>50000 rows × 2 columns</p>\n",
       "</div>"
      ],
      "text/plain": [
       "                                     id  score\n",
       "0      7171737d49b143d1b38883a39e4a5730    599\n",
       "1      3af0a449d5424488912e8fb2bf4b9faa    533\n",
       "2      eb2cf02e0d5c4d1294dd73e776dbb441    669\n",
       "3      9c0f780ecb254670a11aa9e3f10777c5    676\n",
       "4      d794eed46c1e44f785a575f18b3023a5    660\n",
       "5      18f6a7d824a1421b9da3e5f10854c3df    615\n",
       "6      e7b63888a36f499a88811c0936bb12df    640\n",
       "7      f995ef4d96fc426191a104421b0f5b20    571\n",
       "8      11a3ce45ce234f7db4e91e5f152dc8b8    672\n",
       "9      86ebeac087284c87bbcb1281d95ef9eb    583\n",
       "10     195ada20e0644bbaa9590b6f2970eaea    649\n",
       "11     63d788ea10244942bf7130f63ae78a90    556\n",
       "12     4207accd0d9d42d1a990c1b2f3f95c88    646\n",
       "13     a3b53661c96c46f6844ac30ca90b76ff    530\n",
       "14     a6446d00741343ee92036cd373217655    653\n",
       "15     8fb6014618ed48299a2a22648c26b953    619\n",
       "16     f3932aec4f7d4b7a8e6b1d186e5a2faa    616\n",
       "17     bd4a59e1eabd4b93b63021e6142ae363    645\n",
       "18     560d3f89a6614916b6fa0894529cc0ce    645\n",
       "19     6225520b8576493d9297d9016dd3b784    589\n",
       "20     f73e28d9908e4e28b32521907e3c9b24    534\n",
       "21     d5aef6475c4a4a658449895f927e3668    663\n",
       "22     6451cc8b7808485295c092f3f6ab96a3    592\n",
       "23     4ca166b893d6439da100dbc57c18e5af    586\n",
       "24     7742bc4d80c9496bb61df6c638d22594    613\n",
       "25     67b7865d70d745eb9d4f43aff3d85e64    649\n",
       "26     f0960e3c59cb4f52ac87d79fc4ed3057    667\n",
       "27     34f8907caeee48dabb52e28446ffcaf8    641\n",
       "28     13095bc658e741eaad99eff134940d2d    608\n",
       "29     90ebfc21c6f94c299999a5e0a1ad03de    589\n",
       "...                                 ...    ...\n",
       "49970  70c5f229370342b1b3639067df8f4c19    593\n",
       "49971  3873d2e653c44ce7a3d96b7ddccd3928    626\n",
       "49972  50b939508e064ae6b477b739cd33da89    619\n",
       "49973  fa907682abe64bc1abb2c793b2bffa21    623\n",
       "49974  7c117021d0aa4c66843449bd5fde3a75    623\n",
       "49975  23faf8bdc77a4f6bbbb5b6d57787c275    642\n",
       "49976  a2972b0a0a414e14bdd5a6e6d5e440fe    526\n",
       "49977  e5c5b671de404e018d8a28931f78161c    650\n",
       "49978  ef5fc7a994684dfcbb6f821b4e1d79c6    651\n",
       "49979  371ad91bcb88406699f2f762cb3aa19f    561\n",
       "49980  4a41693c5d254c20a49a7e069b91d1c0    595\n",
       "49981  719d19480495437da3d46274dc7e28d7    596\n",
       "49982  01c174e0d6534736b178cb19e08055a5    649\n",
       "49983  e9a973ac39e648059eb1af1525e5e7f2    667\n",
       "49984  ec848c467aca4601913f240d38737836    542\n",
       "49985  23d36690eb22436ea82a254dcd9eff63    599\n",
       "49986  26cedf7bf01140b3b3b917b2dc31fdb8    648\n",
       "49987  2e84e511425448a7bb51c4ca90442b58    636\n",
       "49988  9a38441f2bf8479da2d1f1b20c710874    645\n",
       "49989  32d31a2bc6de4fbf8119424e994cfe8f    568\n",
       "49990  4c988d6976f548a8927f3a8693d7cbbd    535\n",
       "49991  3d4036c4c28141dd9b5a5b1a659682f8    532\n",
       "49992  66ea074e918e4e559efc68d2a298a87f    619\n",
       "49993  7cd1d6b2eaec450390eccf07028b17e9    659\n",
       "49994  f2fab4d7c251460fb85cb32f6c64c2da    624\n",
       "49995  573d8e9a1c2842d3a7fe0cac44145c78    543\n",
       "49996  b186350facc940d3a288e48a9f2d367b    631\n",
       "49997  bed687a2a5a44c2e9a764233b6866cd4    546\n",
       "49998  1d0d9e079f164620bb84c9b1091de654    540\n",
       "49999  e9b5e148e5cc4993bd990cbf15a9c0e6    549\n",
       "\n",
       "[50000 rows x 2 columns]"
      ]
     },
     "execution_count": 11,
     "metadata": {},
     "output_type": "execute_result"
    }
   ],
   "source": [
    "import pandas as pd\n",
    "sub = pd.read_csv('../data/submit_example.csv')\n",
    "sub = sub[['id']]\n",
    "sub['score'] = pred\n",
    "sub.score = sub.score.apply(lambda x: int(x))\n",
    "sub"
   ]
  },
  {
   "cell_type": "code",
   "execution_count": 12,
   "metadata": {},
   "outputs": [],
   "source": [
    "import datetime\n",
    "now = datetime.datetime.now()\n",
    "now = now.strftime('%m-%d-%H-%M')\n",
    "sub.to_csv('../result/baselin_%s.csv'%now,index=0)"
   ]
  },
  {
   "cell_type": "code",
   "execution_count": null,
   "metadata": {},
   "outputs": [],
   "source": []
  }
 ],
 "metadata": {
  "kernelspec": {
   "display_name": "Python 3",
   "language": "python",
   "name": "python3"
  },
  "language_info": {
   "codemirror_mode": {
    "name": "ipython",
    "version": 3
   },
   "file_extension": ".py",
   "mimetype": "text/x-python",
   "name": "python",
   "nbconvert_exporter": "python",
   "pygments_lexer": "ipython3",
   "version": "3.6.5"
  }
 },
 "nbformat": 4,
 "nbformat_minor": 2
}
